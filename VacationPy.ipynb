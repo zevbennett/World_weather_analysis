{
 "cells": [
  {
   "cell_type": "code",
   "execution_count": 7,
   "id": "d95102ef",
   "metadata": {},
   "outputs": [],
   "source": [
    "# Import the dependencies.\n",
    "import pandas as pd\n",
    "import gmaps\n",
    "import requests\n",
    "# Import the API key.\n",
    "from config import g_key"
   ]
  },
  {
   "cell_type": "code",
   "execution_count": 8,
   "id": "b25fadc4",
   "metadata": {},
   "outputs": [
    {
     "data": {
      "text/html": [
       "<div>\n",
       "<style scoped>\n",
       "    .dataframe tbody tr th:only-of-type {\n",
       "        vertical-align: middle;\n",
       "    }\n",
       "\n",
       "    .dataframe tbody tr th {\n",
       "        vertical-align: top;\n",
       "    }\n",
       "\n",
       "    .dataframe thead th {\n",
       "        text-align: right;\n",
       "    }\n",
       "</style>\n",
       "<table border=\"1\" class=\"dataframe\">\n",
       "  <thead>\n",
       "    <tr style=\"text-align: right;\">\n",
       "      <th></th>\n",
       "      <th>City_ID</th>\n",
       "      <th>City</th>\n",
       "      <th>Lat</th>\n",
       "      <th>Lng</th>\n",
       "      <th>Max Temp</th>\n",
       "      <th>Humidity</th>\n",
       "      <th>Cloudiness</th>\n",
       "      <th>Wind Speed</th>\n",
       "      <th>Country</th>\n",
       "      <th>Date</th>\n",
       "    </tr>\n",
       "  </thead>\n",
       "  <tbody>\n",
       "    <tr>\n",
       "      <th>0</th>\n",
       "      <td>0</td>\n",
       "      <td>Gbadolite</td>\n",
       "      <td>4.2833</td>\n",
       "      <td>21.0167</td>\n",
       "      <td>71.28</td>\n",
       "      <td>95</td>\n",
       "      <td>100</td>\n",
       "      <td>1.57</td>\n",
       "      <td>CD</td>\n",
       "      <td>2022-10-04 20:50:24</td>\n",
       "    </tr>\n",
       "    <tr>\n",
       "      <th>1</th>\n",
       "      <td>1</td>\n",
       "      <td>Vao</td>\n",
       "      <td>-22.6667</td>\n",
       "      <td>167.4833</td>\n",
       "      <td>68.29</td>\n",
       "      <td>61</td>\n",
       "      <td>6</td>\n",
       "      <td>10.80</td>\n",
       "      <td>NC</td>\n",
       "      <td>2022-10-04 20:50:25</td>\n",
       "    </tr>\n",
       "    <tr>\n",
       "      <th>2</th>\n",
       "      <td>2</td>\n",
       "      <td>Ushuaia</td>\n",
       "      <td>-54.8000</td>\n",
       "      <td>-68.3000</td>\n",
       "      <td>56.86</td>\n",
       "      <td>41</td>\n",
       "      <td>20</td>\n",
       "      <td>9.22</td>\n",
       "      <td>AR</td>\n",
       "      <td>2022-10-04 20:49:39</td>\n",
       "    </tr>\n",
       "    <tr>\n",
       "      <th>3</th>\n",
       "      <td>3</td>\n",
       "      <td>Hobart</td>\n",
       "      <td>-42.8794</td>\n",
       "      <td>147.3294</td>\n",
       "      <td>42.06</td>\n",
       "      <td>88</td>\n",
       "      <td>40</td>\n",
       "      <td>12.66</td>\n",
       "      <td>AU</td>\n",
       "      <td>2022-10-04 20:47:08</td>\n",
       "    </tr>\n",
       "    <tr>\n",
       "      <th>4</th>\n",
       "      <td>4</td>\n",
       "      <td>Bonfim</td>\n",
       "      <td>3.0833</td>\n",
       "      <td>-59.9500</td>\n",
       "      <td>86.79</td>\n",
       "      <td>63</td>\n",
       "      <td>81</td>\n",
       "      <td>2.04</td>\n",
       "      <td>BR</td>\n",
       "      <td>2022-10-04 20:50:27</td>\n",
       "    </tr>\n",
       "  </tbody>\n",
       "</table>\n",
       "</div>"
      ],
      "text/plain": [
       "   City_ID       City      Lat       Lng  Max Temp  Humidity  Cloudiness  \\\n",
       "0        0  Gbadolite   4.2833   21.0167     71.28        95         100   \n",
       "1        1        Vao -22.6667  167.4833     68.29        61           6   \n",
       "2        2    Ushuaia -54.8000  -68.3000     56.86        41          20   \n",
       "3        3     Hobart -42.8794  147.3294     42.06        88          40   \n",
       "4        4     Bonfim   3.0833  -59.9500     86.79        63          81   \n",
       "\n",
       "   Wind Speed Country                 Date  \n",
       "0        1.57      CD  2022-10-04 20:50:24  \n",
       "1       10.80      NC  2022-10-04 20:50:25  \n",
       "2        9.22      AR  2022-10-04 20:49:39  \n",
       "3       12.66      AU  2022-10-04 20:47:08  \n",
       "4        2.04      BR  2022-10-04 20:50:27  "
      ]
     },
     "execution_count": 8,
     "metadata": {},
     "output_type": "execute_result"
    }
   ],
   "source": [
    "# Store the CSV you saved created in part one into a DataFrame.\n",
    "city_data_df = pd.read_csv(\"weather_data/cities.csv\")\n",
    "city_data_df.head()"
   ]
  },
  {
   "cell_type": "code",
   "execution_count": 9,
   "id": "ae3ae68e",
   "metadata": {},
   "outputs": [
    {
     "data": {
      "text/plain": [
       "City_ID         int64\n",
       "City           object\n",
       "Lat           float64\n",
       "Lng           float64\n",
       "Max Temp      float64\n",
       "Humidity        int64\n",
       "Cloudiness      int64\n",
       "Wind Speed    float64\n",
       "Country        object\n",
       "Date           object\n",
       "dtype: object"
      ]
     },
     "execution_count": 9,
     "metadata": {},
     "output_type": "execute_result"
    }
   ],
   "source": [
    "# Confirm Data Types are correct\n",
    "city_data_df.dtypes"
   ]
  },
  {
   "cell_type": "code",
   "execution_count": 10,
   "id": "47c6a8a0",
   "metadata": {},
   "outputs": [],
   "source": [
    "# Configure gmaps to use your Google API key.\n",
    "gmaps.configure(api_key=g_key)"
   ]
  },
  {
   "cell_type": "markdown",
   "id": "4dff76d9",
   "metadata": {},
   "source": [
    "## Create Heatmap\n"
   ]
  },
  {
   "cell_type": "code",
   "execution_count": 24,
   "id": "3a7b06e5",
   "metadata": {},
   "outputs": [
    {
     "data": {
      "application/vnd.jupyter.widget-view+json": {
       "model_id": "dfdaa1cfcc3c4fa6b37a863c6809c7a6",
       "version_major": 2,
       "version_minor": 0
      },
      "text/plain": [
       "Figure(layout=FigureLayout(height='420px'))"
      ]
     },
     "metadata": {},
     "output_type": "display_data"
    }
   ],
   "source": [
    "# Heatmap of temperature\n",
    "# Get the latitude and longitude.\n",
    "locations = city_data_df[[\"Lat\", \"Lng\"]]\n",
    "# Get the maximum temperature.\n",
    "max_temp = city_data_df[\"Max Temp\"]\n",
    "# Assign the figure variable.\n",
    "fig = gmaps.figure(center=(30.0, 31.0), zoom_level=1.5)\n",
    "# Assign the heatmap variable.\n",
    "heat_layer = gmaps.heatmap_layerheat_layer = gmaps.heatmap_layer(locations, weights=[max(temp, 0) for temp in max_temp], dissipating=False, max_intensity=300, point_radius=4)\n",
    "\n",
    "# Add the heatmap layer.\n",
    "fig.add_layer(heat_layer)\n",
    "# Call the figure to plot the data.\n",
    "\n",
    "fig\n"
   ]
  },
  {
   "cell_type": "code",
   "execution_count": 25,
   "id": "46977e9b",
   "metadata": {},
   "outputs": [
    {
     "data": {
      "application/vnd.jupyter.widget-view+json": {
       "model_id": "002833fc8a5c4a98b43a0ed3217ca526",
       "version_major": 2,
       "version_minor": 0
      },
      "text/plain": [
       "Figure(layout=FigureLayout(height='420px'))"
      ]
     },
     "metadata": {},
     "output_type": "display_data"
    }
   ],
   "source": [
    "# Heatmap of percent humidity\n",
    "locations = city_data_df[[\"Lat\", \"Lng\"]]\n",
    "humidity = city_data_df[\"Humidity\"]\n",
    "fig = gmaps.figure(center=(30.0, 31.0), zoom_level=1.5)\n",
    "heat_layer = gmaps.heatmap_layer(locations, weights=humidity, dissipating=False, max_intensity=300, point_radius=4)\n",
    "\n",
    "fig.add_layer(heat_layer)\n",
    "# Call the figure to plot the data.\n",
    "fig"
   ]
  },
  {
   "cell_type": "code",
   "execution_count": 26,
   "id": "570ee210",
   "metadata": {},
   "outputs": [
    {
     "data": {
      "application/vnd.jupyter.widget-view+json": {
       "model_id": "7f0a1e4d0c8c4021bb49150319a8d95e",
       "version_major": 2,
       "version_minor": 0
      },
      "text/plain": [
       "Figure(layout=FigureLayout(height='420px'))"
      ]
     },
     "metadata": {},
     "output_type": "display_data"
    }
   ],
   "source": [
    "# Heatmap of percent cloudiness\n",
    "locations = city_data_df[[\"Lat\", \"Lng\"]]\n",
    "clouds = city_data_df[\"Cloudiness\"]\n",
    "fig = gmaps.figure(center=(30.0, 31.0), zoom_level=1.5)\n",
    "heat_layer = gmaps.heatmap_layer(locations, weights=clouds, dissipating=False, max_intensity=300, point_radius=4)\n",
    "\n",
    "fig.add_layer(heat_layer)\n",
    "# Call the figure to plot the data.\n",
    "fig"
   ]
  },
  {
   "cell_type": "code",
   "execution_count": 28,
   "id": "43d8acc3",
   "metadata": {},
   "outputs": [
    {
     "data": {
      "application/vnd.jupyter.widget-view+json": {
       "model_id": "ac76d00b85e54cd89d366727cc9e914d",
       "version_major": 2,
       "version_minor": 0
      },
      "text/plain": [
       "Figure(layout=FigureLayout(height='420px'))"
      ]
     },
     "metadata": {},
     "output_type": "display_data"
    }
   ],
   "source": [
    "# Heatmap of windspeed\n",
    "locations = city_data_df[[\"Lat\", \"Lng\"]]\n",
    "wind = city_data_df[\"Wind Speed\"]\n",
    "fig = gmaps.figure(center=(30.0, 31.0), zoom_level=1.5)\n",
    "heat_layer = gmaps.heatmap_layer(locations, weights=wind, dissipating=False, max_intensity=300, point_radius=4)\n",
    "\n",
    "fig.add_layer(heat_layer)\n",
    "# Call the figure to plot the data.\n",
    "fig"
   ]
  },
  {
   "cell_type": "markdown",
   "id": "449bc328",
   "metadata": {},
   "source": [
    "# Get Vacation Parameters"
   ]
  },
  {
   "cell_type": "code",
   "execution_count": 29,
   "id": "4deae5b7",
   "metadata": {},
   "outputs": [
    {
     "name": "stdout",
     "output_type": "stream",
     "text": [
      "What is the minimum temperature you would like for your trip? 70\n",
      "What is the maximum temperature you would like for your trip? 85\n"
     ]
    }
   ],
   "source": [
    "# Ask the customer to add a minimum and maximum temperature value.\n",
    "min_temp = float(input(\"What is the minimum temperature you would like for your trip? \"))\n",
    "max_temp = float(input(\"What is the maximum temperature you would like for your trip? \"))"
   ]
  },
  {
   "cell_type": "code",
   "execution_count": 32,
   "id": "1a735f77",
   "metadata": {},
   "outputs": [
    {
     "data": {
      "text/html": [
       "<div>\n",
       "<style scoped>\n",
       "    .dataframe tbody tr th:only-of-type {\n",
       "        vertical-align: middle;\n",
       "    }\n",
       "\n",
       "    .dataframe tbody tr th {\n",
       "        vertical-align: top;\n",
       "    }\n",
       "\n",
       "    .dataframe thead th {\n",
       "        text-align: right;\n",
       "    }\n",
       "</style>\n",
       "<table border=\"1\" class=\"dataframe\">\n",
       "  <thead>\n",
       "    <tr style=\"text-align: right;\">\n",
       "      <th></th>\n",
       "      <th>City_ID</th>\n",
       "      <th>City</th>\n",
       "      <th>Lat</th>\n",
       "      <th>Lng</th>\n",
       "      <th>Max Temp</th>\n",
       "      <th>Humidity</th>\n",
       "      <th>Cloudiness</th>\n",
       "      <th>Wind Speed</th>\n",
       "      <th>Country</th>\n",
       "      <th>Date</th>\n",
       "    </tr>\n",
       "  </thead>\n",
       "  <tbody>\n",
       "    <tr>\n",
       "      <th>0</th>\n",
       "      <td>0</td>\n",
       "      <td>Gbadolite</td>\n",
       "      <td>4.2833</td>\n",
       "      <td>21.0167</td>\n",
       "      <td>71.28</td>\n",
       "      <td>95</td>\n",
       "      <td>100</td>\n",
       "      <td>1.57</td>\n",
       "      <td>CD</td>\n",
       "      <td>2022-10-04 20:50:24</td>\n",
       "    </tr>\n",
       "    <tr>\n",
       "      <th>7</th>\n",
       "      <td>7</td>\n",
       "      <td>La Carolina</td>\n",
       "      <td>38.2756</td>\n",
       "      <td>-3.6153</td>\n",
       "      <td>71.29</td>\n",
       "      <td>28</td>\n",
       "      <td>11</td>\n",
       "      <td>3.31</td>\n",
       "      <td>ES</td>\n",
       "      <td>2022-10-04 20:50:29</td>\n",
       "    </tr>\n",
       "    <tr>\n",
       "      <th>13</th>\n",
       "      <td>13</td>\n",
       "      <td>Salalah</td>\n",
       "      <td>17.0151</td>\n",
       "      <td>54.0924</td>\n",
       "      <td>78.01</td>\n",
       "      <td>84</td>\n",
       "      <td>62</td>\n",
       "      <td>5.39</td>\n",
       "      <td>OM</td>\n",
       "      <td>2022-10-04 20:50:33</td>\n",
       "    </tr>\n",
       "    <tr>\n",
       "      <th>15</th>\n",
       "      <td>15</td>\n",
       "      <td>Hithadhoo</td>\n",
       "      <td>-0.6000</td>\n",
       "      <td>73.0833</td>\n",
       "      <td>82.31</td>\n",
       "      <td>71</td>\n",
       "      <td>99</td>\n",
       "      <td>17.47</td>\n",
       "      <td>MV</td>\n",
       "      <td>2022-10-04 20:50:33</td>\n",
       "    </tr>\n",
       "    <tr>\n",
       "      <th>16</th>\n",
       "      <td>16</td>\n",
       "      <td>Nizwa</td>\n",
       "      <td>22.9333</td>\n",
       "      <td>57.5333</td>\n",
       "      <td>76.26</td>\n",
       "      <td>59</td>\n",
       "      <td>0</td>\n",
       "      <td>0.85</td>\n",
       "      <td>OM</td>\n",
       "      <td>2022-10-04 20:50:34</td>\n",
       "    </tr>\n",
       "    <tr>\n",
       "      <th>18</th>\n",
       "      <td>18</td>\n",
       "      <td>Katsuura</td>\n",
       "      <td>35.1333</td>\n",
       "      <td>140.3000</td>\n",
       "      <td>77.16</td>\n",
       "      <td>86</td>\n",
       "      <td>100</td>\n",
       "      <td>17.85</td>\n",
       "      <td>JP</td>\n",
       "      <td>2022-10-04 20:50:35</td>\n",
       "    </tr>\n",
       "    <tr>\n",
       "      <th>19</th>\n",
       "      <td>19</td>\n",
       "      <td>Mount Pleasant</td>\n",
       "      <td>32.7941</td>\n",
       "      <td>-79.8626</td>\n",
       "      <td>73.99</td>\n",
       "      <td>45</td>\n",
       "      <td>0</td>\n",
       "      <td>8.05</td>\n",
       "      <td>US</td>\n",
       "      <td>2022-10-04 20:50:35</td>\n",
       "    </tr>\n",
       "    <tr>\n",
       "      <th>20</th>\n",
       "      <td>20</td>\n",
       "      <td>Cabedelo</td>\n",
       "      <td>-6.9811</td>\n",
       "      <td>-34.8339</td>\n",
       "      <td>81.27</td>\n",
       "      <td>74</td>\n",
       "      <td>31</td>\n",
       "      <td>11.56</td>\n",
       "      <td>BR</td>\n",
       "      <td>2022-10-04 20:50:36</td>\n",
       "    </tr>\n",
       "    <tr>\n",
       "      <th>24</th>\n",
       "      <td>24</td>\n",
       "      <td>Angoram</td>\n",
       "      <td>-4.0625</td>\n",
       "      <td>144.0661</td>\n",
       "      <td>75.07</td>\n",
       "      <td>96</td>\n",
       "      <td>96</td>\n",
       "      <td>1.61</td>\n",
       "      <td>PG</td>\n",
       "      <td>2022-10-04 20:50:41</td>\n",
       "    </tr>\n",
       "    <tr>\n",
       "      <th>26</th>\n",
       "      <td>26</td>\n",
       "      <td>Jardim</td>\n",
       "      <td>-21.4803</td>\n",
       "      <td>-56.1381</td>\n",
       "      <td>84.92</td>\n",
       "      <td>49</td>\n",
       "      <td>5</td>\n",
       "      <td>1.95</td>\n",
       "      <td>BR</td>\n",
       "      <td>2022-10-04 20:50:42</td>\n",
       "    </tr>\n",
       "  </tbody>\n",
       "</table>\n",
       "</div>"
      ],
      "text/plain": [
       "    City_ID            City      Lat       Lng  Max Temp  Humidity  \\\n",
       "0         0       Gbadolite   4.2833   21.0167     71.28        95   \n",
       "7         7     La Carolina  38.2756   -3.6153     71.29        28   \n",
       "13       13         Salalah  17.0151   54.0924     78.01        84   \n",
       "15       15       Hithadhoo  -0.6000   73.0833     82.31        71   \n",
       "16       16           Nizwa  22.9333   57.5333     76.26        59   \n",
       "18       18        Katsuura  35.1333  140.3000     77.16        86   \n",
       "19       19  Mount Pleasant  32.7941  -79.8626     73.99        45   \n",
       "20       20        Cabedelo  -6.9811  -34.8339     81.27        74   \n",
       "24       24         Angoram  -4.0625  144.0661     75.07        96   \n",
       "26       26          Jardim -21.4803  -56.1381     84.92        49   \n",
       "\n",
       "    Cloudiness  Wind Speed Country                 Date  \n",
       "0          100        1.57      CD  2022-10-04 20:50:24  \n",
       "7           11        3.31      ES  2022-10-04 20:50:29  \n",
       "13          62        5.39      OM  2022-10-04 20:50:33  \n",
       "15          99       17.47      MV  2022-10-04 20:50:33  \n",
       "16           0        0.85      OM  2022-10-04 20:50:34  \n",
       "18         100       17.85      JP  2022-10-04 20:50:35  \n",
       "19           0        8.05      US  2022-10-04 20:50:35  \n",
       "20          31       11.56      BR  2022-10-04 20:50:36  \n",
       "24          96        1.61      PG  2022-10-04 20:50:41  \n",
       "26           5        1.95      BR  2022-10-04 20:50:42  "
      ]
     },
     "execution_count": 32,
     "metadata": {},
     "output_type": "execute_result"
    }
   ],
   "source": [
    "# Filter the dataset to find the cities that fit the criteria.\n",
    "preferred_cities_df = city_data_df.loc[(city_data_df[\"Max Temp\"] <= max_temp) & \\\n",
    "                                       (city_data_df[\"Max Temp\"] >= min_temp)]\n",
    "preferred_cities_df.head(10)"
   ]
  },
  {
   "cell_type": "code",
   "execution_count": 33,
   "id": "c87739cb",
   "metadata": {},
   "outputs": [
    {
     "data": {
      "text/plain": [
       "City_ID       212\n",
       "City          212\n",
       "Lat           212\n",
       "Lng           212\n",
       "Max Temp      212\n",
       "Humidity      212\n",
       "Cloudiness    212\n",
       "Wind Speed    212\n",
       "Country       212\n",
       "Date          212\n",
       "dtype: int64"
      ]
     },
     "execution_count": 33,
     "metadata": {},
     "output_type": "execute_result"
    }
   ],
   "source": [
    "preferred_cities_df.count()"
   ]
  },
  {
   "cell_type": "markdown",
   "id": "3f6cf7e9",
   "metadata": {},
   "source": [
    "# Create a hotel data frame"
   ]
  },
  {
   "cell_type": "code",
   "execution_count": 34,
   "id": "e1d72142",
   "metadata": {},
   "outputs": [
    {
     "data": {
      "text/html": [
       "<div>\n",
       "<style scoped>\n",
       "    .dataframe tbody tr th:only-of-type {\n",
       "        vertical-align: middle;\n",
       "    }\n",
       "\n",
       "    .dataframe tbody tr th {\n",
       "        vertical-align: top;\n",
       "    }\n",
       "\n",
       "    .dataframe thead th {\n",
       "        text-align: right;\n",
       "    }\n",
       "</style>\n",
       "<table border=\"1\" class=\"dataframe\">\n",
       "  <thead>\n",
       "    <tr style=\"text-align: right;\">\n",
       "      <th></th>\n",
       "      <th>City</th>\n",
       "      <th>Country</th>\n",
       "      <th>Max Temp</th>\n",
       "      <th>Lat</th>\n",
       "      <th>Lng</th>\n",
       "      <th>Hotel Name</th>\n",
       "    </tr>\n",
       "  </thead>\n",
       "  <tbody>\n",
       "    <tr>\n",
       "      <th>0</th>\n",
       "      <td>Gbadolite</td>\n",
       "      <td>CD</td>\n",
       "      <td>71.28</td>\n",
       "      <td>4.2833</td>\n",
       "      <td>21.0167</td>\n",
       "      <td></td>\n",
       "    </tr>\n",
       "    <tr>\n",
       "      <th>7</th>\n",
       "      <td>La Carolina</td>\n",
       "      <td>ES</td>\n",
       "      <td>71.29</td>\n",
       "      <td>38.2756</td>\n",
       "      <td>-3.6153</td>\n",
       "      <td></td>\n",
       "    </tr>\n",
       "    <tr>\n",
       "      <th>13</th>\n",
       "      <td>Salalah</td>\n",
       "      <td>OM</td>\n",
       "      <td>78.01</td>\n",
       "      <td>17.0151</td>\n",
       "      <td>54.0924</td>\n",
       "      <td></td>\n",
       "    </tr>\n",
       "    <tr>\n",
       "      <th>15</th>\n",
       "      <td>Hithadhoo</td>\n",
       "      <td>MV</td>\n",
       "      <td>82.31</td>\n",
       "      <td>-0.6000</td>\n",
       "      <td>73.0833</td>\n",
       "      <td></td>\n",
       "    </tr>\n",
       "    <tr>\n",
       "      <th>16</th>\n",
       "      <td>Nizwa</td>\n",
       "      <td>OM</td>\n",
       "      <td>76.26</td>\n",
       "      <td>22.9333</td>\n",
       "      <td>57.5333</td>\n",
       "      <td></td>\n",
       "    </tr>\n",
       "    <tr>\n",
       "      <th>18</th>\n",
       "      <td>Katsuura</td>\n",
       "      <td>JP</td>\n",
       "      <td>77.16</td>\n",
       "      <td>35.1333</td>\n",
       "      <td>140.3000</td>\n",
       "      <td></td>\n",
       "    </tr>\n",
       "    <tr>\n",
       "      <th>19</th>\n",
       "      <td>Mount Pleasant</td>\n",
       "      <td>US</td>\n",
       "      <td>73.99</td>\n",
       "      <td>32.7941</td>\n",
       "      <td>-79.8626</td>\n",
       "      <td></td>\n",
       "    </tr>\n",
       "    <tr>\n",
       "      <th>20</th>\n",
       "      <td>Cabedelo</td>\n",
       "      <td>BR</td>\n",
       "      <td>81.27</td>\n",
       "      <td>-6.9811</td>\n",
       "      <td>-34.8339</td>\n",
       "      <td></td>\n",
       "    </tr>\n",
       "    <tr>\n",
       "      <th>24</th>\n",
       "      <td>Angoram</td>\n",
       "      <td>PG</td>\n",
       "      <td>75.07</td>\n",
       "      <td>-4.0625</td>\n",
       "      <td>144.0661</td>\n",
       "      <td></td>\n",
       "    </tr>\n",
       "    <tr>\n",
       "      <th>26</th>\n",
       "      <td>Jardim</td>\n",
       "      <td>BR</td>\n",
       "      <td>84.92</td>\n",
       "      <td>-21.4803</td>\n",
       "      <td>-56.1381</td>\n",
       "      <td></td>\n",
       "    </tr>\n",
       "  </tbody>\n",
       "</table>\n",
       "</div>"
      ],
      "text/plain": [
       "              City Country  Max Temp      Lat       Lng Hotel Name\n",
       "0        Gbadolite      CD     71.28   4.2833   21.0167           \n",
       "7      La Carolina      ES     71.29  38.2756   -3.6153           \n",
       "13         Salalah      OM     78.01  17.0151   54.0924           \n",
       "15       Hithadhoo      MV     82.31  -0.6000   73.0833           \n",
       "16           Nizwa      OM     76.26  22.9333   57.5333           \n",
       "18        Katsuura      JP     77.16  35.1333  140.3000           \n",
       "19  Mount Pleasant      US     73.99  32.7941  -79.8626           \n",
       "20        Cabedelo      BR     81.27  -6.9811  -34.8339           \n",
       "24         Angoram      PG     75.07  -4.0625  144.0661           \n",
       "26          Jardim      BR     84.92 -21.4803  -56.1381           "
      ]
     },
     "execution_count": 34,
     "metadata": {},
     "output_type": "execute_result"
    }
   ],
   "source": [
    "# Create DataFrame called hotel_df to store hotel names along with city, country, max temp, and coordinates.\n",
    "hotel_df = preferred_cities_df[[\"City\", \"Country\", \"Max Temp\", \"Lat\", \"Lng\"]].copy()\n",
    "hotel_df[\"Hotel Name\"] = \"\"\n",
    "hotel_df.head(10)"
   ]
  },
  {
   "cell_type": "code",
   "execution_count": 35,
   "id": "fb7666fc",
   "metadata": {},
   "outputs": [],
   "source": [
    "# Set parameters to search for a hotel.\n",
    "params = {\n",
    "    \"radius\": 5000,\n",
    "    \"type\": \"lodging\",\n",
    "    \"key\": g_key\n",
    "}"
   ]
  },
  {
   "cell_type": "code",
   "execution_count": null,
   "id": "a1998287",
   "metadata": {},
   "outputs": [],
   "source": []
  }
 ],
 "metadata": {
  "kernelspec": {
   "display_name": "Python 3 (ipykernel)",
   "language": "python",
   "name": "python3"
  },
  "language_info": {
   "codemirror_mode": {
    "name": "ipython",
    "version": 3
   },
   "file_extension": ".py",
   "mimetype": "text/x-python",
   "name": "python",
   "nbconvert_exporter": "python",
   "pygments_lexer": "ipython3",
   "version": "3.7.13"
  }
 },
 "nbformat": 4,
 "nbformat_minor": 5
}
